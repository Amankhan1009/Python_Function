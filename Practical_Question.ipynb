{
 "cells": [
  {
   "cell_type": "code",
   "execution_count": 1,
   "id": "3f93b69b-eb23-40e1-a835-1c6205589724",
   "metadata": {},
   "outputs": [
    {
     "name": "stdin",
     "output_type": "stream",
     "text": [
      "Enter the no of elemtns in list:  4\n",
      "Enter the elments:  1\n",
      "Enter the elments:  2\n",
      "Enter the elments:  3\n",
      "Enter the elments:  4\n"
     ]
    },
    {
     "name": "stdout",
     "output_type": "stream",
     "text": [
      "The list is:  [1, 2, 3, 4]\n",
      "Sum of even nos in the list:  6\n"
     ]
    }
   ],
   "source": [
    "# Q1:  Write a Python function that takes a list of numbers as input and returns the sum of all even numbers in\n",
    "#      the list.\n",
    "\n",
    "# code->\n",
    "\n",
    "# Function to give sum of even nos in list\n",
    "def Sum(numbers):\n",
    "    even_sum = 0\n",
    "    for num in numbers:\n",
    "        if(num % 2 == 0):\n",
    "            even_sum += num\n",
    "    return even_sum\n",
    "\n",
    "# Taking user input for list\n",
    "l = []\n",
    "n = int(input(\"Enter the no of elemtns in list: \"))\n",
    "for i in range(0, n):\n",
    "    element = int(input(\"Enter the elments: \"))\n",
    "    l.append(element)\n",
    "print(\"The list is: \", l)\n",
    "\n",
    "# Function call\n",
    "result = Sum(l)\n",
    "print(\"Sum of even nos in the list: \", result)"
   ]
  },
  {
   "cell_type": "code",
   "execution_count": 2,
   "id": "8c11d57a-3039-43c2-ad7c-20e5f1afa703",
   "metadata": {},
   "outputs": [
    {
     "name": "stdin",
     "output_type": "stream",
     "text": [
      "Enter the String:  Virat kohli\n"
     ]
    },
    {
     "name": "stdout",
     "output_type": "stream",
     "text": [
      "Reversed String:  ilhok tariV\n"
     ]
    }
   ],
   "source": [
    "# Q2. Create a Python function that accepts a string and returns the reverse of that string.\n",
    "\n",
    "# Code->\n",
    "\n",
    "# Function to reverse the inputed string\n",
    "def Rev_Str():\n",
    "    reversed_str = String[::-1]\n",
    "    return reversed_str\n",
    "\n",
    "# User input for string \n",
    "String = input(\"Enter the String: \")\n",
    "\n",
    "# Function call and printing the rev string.\n",
    "print(\"Reversed String: \",Rev_Str())\n"
   ]
  },
  {
   "cell_type": "code",
   "execution_count": 9,
   "id": "acc9db64-26e0-4a05-a6aa-f69f6ed56e9c",
   "metadata": {},
   "outputs": [
    {
     "name": "stdin",
     "output_type": "stream",
     "text": [
      "Enter the no of elemtns in list:  5\n",
      "Enter the elments:  1\n",
      "Enter the elments:  3\n",
      "Enter the elments:  5\n",
      "Enter the elments:  7\n",
      "Enter the elments:  9\n"
     ]
    },
    {
     "name": "stdout",
     "output_type": "stream",
     "text": [
      "The list is:  [1, 3, 5, 7, 9]\n",
      "The list containg square of number:  [1, 9, 25, 49, 81]\n"
     ]
    }
   ],
   "source": [
    "# Q3:  Implement a Python function that takes a list of integers and returns a new list containing the squares of\n",
    "# each number.\n",
    "\n",
    "# code->\n",
    "\n",
    "# Function that takes list of int and returns new list containg square of each no.\n",
    "def Square_List():\n",
    "    square = map(lambda x: x*x, lst)\n",
    "    return square\n",
    "    \n",
    "# Taking user input for list\n",
    "lst = []\n",
    "n = int(input(\"Enter the no of elemtns in list: \"))\n",
    "for i in range(0, n):\n",
    "    element = int(input(\"Enter the elments: \"))\n",
    "    lst.append(element)\n",
    "print(\"The list is: \", lst)\n",
    "\n",
    "# Function call and printing the result\n",
    "print(\"The list containg square of number: \",list(Square_List()))"
   ]
  },
  {
   "cell_type": "code",
   "execution_count": 2,
   "id": "fd1bf1b9-14e4-4216-8fef-2d870501e90e",
   "metadata": {},
   "outputs": [
    {
     "name": "stdin",
     "output_type": "stream",
     "text": [
      "Enter the number:  199\n"
     ]
    },
    {
     "name": "stdout",
     "output_type": "stream",
     "text": [
      "It is a prime number\n"
     ]
    }
   ],
   "source": [
    "# Q4:  Write a Python function that checks if a given number is prime or not from 1 to 200.\n",
    "\n",
    "# code->\n",
    "def check_prime():\n",
    "    n = int(input(\"Enter the number: \"))\n",
    "    if n>1 and n<=200:\n",
    "        for i in range(2, n):\n",
    "            if n%i == 0:\n",
    "                print(\"It is not a prime number.\")\n",
    "                break\n",
    "        else:\n",
    "            print(\"It is a prime number\")\n",
    "    else:\n",
    "        print(\"Out of range...\")\n",
    "    \n",
    "check_prime()\n",
    "    \n",
    "    "
   ]
  },
  {
   "cell_type": "code",
   "execution_count": 6,
   "id": "217483f3-b574-4986-a7b1-f438bc8914f6",
   "metadata": {},
   "outputs": [],
   "source": [
    "# Q5:  Create an iterator class in Python that generates the Fibonacci sequence up to a specified number of terms\n",
    "\n",
    "# code->\n",
    "\n",
    "# Function for generating fibonacci series\n",
    "def fibonacii(n):\n",
    "    a = 0\n",
    "    b = 1\n",
    "    for i in range(n):\n",
    "        yield a\n",
    "        a, b=b, a+b\n",
    "f = fibonacii(100)"
   ]
  },
  {
   "cell_type": "code",
   "execution_count": 7,
   "id": "3a53c80e-aba4-4ce1-a604-ca7501e0b50f",
   "metadata": {},
   "outputs": [
    {
     "data": {
      "text/plain": [
       "<generator object fibonacii at 0x72df103b3220>"
      ]
     },
     "execution_count": 7,
     "metadata": {},
     "output_type": "execute_result"
    }
   ],
   "source": [
    "f"
   ]
  },
  {
   "cell_type": "code",
   "execution_count": 8,
   "id": "d8aa74c0-7f77-4a8c-bdc7-45314c942cf6",
   "metadata": {},
   "outputs": [
    {
     "data": {
      "text/plain": [
       "0"
      ]
     },
     "execution_count": 8,
     "metadata": {},
     "output_type": "execute_result"
    }
   ],
   "source": [
    "next(f)"
   ]
  },
  {
   "cell_type": "code",
   "execution_count": 9,
   "id": "dc7f95c8-0e22-4939-8e41-a8bc4461357f",
   "metadata": {},
   "outputs": [
    {
     "data": {
      "text/plain": [
       "1"
      ]
     },
     "execution_count": 9,
     "metadata": {},
     "output_type": "execute_result"
    }
   ],
   "source": [
    "next(f)"
   ]
  },
  {
   "cell_type": "code",
   "execution_count": 10,
   "id": "4b6c5be3-972e-4db2-8535-2ec69ad5871a",
   "metadata": {},
   "outputs": [
    {
     "data": {
      "text/plain": [
       "1"
      ]
     },
     "execution_count": 10,
     "metadata": {},
     "output_type": "execute_result"
    }
   ],
   "source": [
    "next(f)"
   ]
  },
  {
   "cell_type": "code",
   "execution_count": 11,
   "id": "c2d3fce8-a1ca-4130-9b0f-78fad521c202",
   "metadata": {},
   "outputs": [
    {
     "data": {
      "text/plain": [
       "2"
      ]
     },
     "execution_count": 11,
     "metadata": {},
     "output_type": "execute_result"
    }
   ],
   "source": [
    "next(f)"
   ]
  },
  {
   "cell_type": "code",
   "execution_count": 5,
   "id": "23f5a73f-b80c-41a4-90f6-ac413c76bf2b",
   "metadata": {},
   "outputs": [
    {
     "name": "stdin",
     "output_type": "stream",
     "text": [
      "Enter the maximum exponent:  5\n"
     ]
    },
    {
     "name": "stdout",
     "output_type": "stream",
     "text": [
      "1 2 4 8 16 32 "
     ]
    }
   ],
   "source": [
    "# Q6:  Write a generator function in Python that yields the powers of 2 up to a given exponent.\n",
    "\n",
    "# code->\n",
    "\n",
    "# Function \n",
    "def power_of_two(max_exponent):\n",
    "    \"\"\"A generator function that yields powers of 2 up to the given exponent.\"\"\"\n",
    "    for exponent in range(max_exponent + 1):\n",
    "        yield 2 ** exponent\n",
    "\n",
    "# input the max no of exponent.\n",
    "max_exponent = int(input(\"Enter the maximum exponent: \"))\n",
    "\n",
    "# Function call and printing the resullt\n",
    "for power in power_of_two(max_exponent):\n",
    "    print(power, end=\" \") \n",
    "    # the result will be 1, 2, 4, 8, 16, 32, which are 2^0, 2^1, 2^2, 2^3, 2^4, 2^5 respectively. \n",
    "                          "
   ]
  },
  {
   "cell_type": "code",
   "execution_count": 20,
   "id": "d5fb9e76-4ce2-484b-91f4-aa7470a3f2e2",
   "metadata": {},
   "outputs": [
    {
     "name": "stdout",
     "output_type": "stream",
     "text": [
      "Python is a high-level, general-purpose programming language.\n",
      "Its design philosophy emphasizes code readability with the use of significant indentation.\n",
      "Python is dynamically typed and garbage-collected. It supports multiple programming paradigms,\n",
      "including structured, object-oriented and functional programming.\n"
     ]
    }
   ],
   "source": [
    "# Q7:  Implement a generator function that reads a file line by line and yields each line as a string.\n",
    "\n",
    "# code->\n",
    "def read_file_lines(file_path):\n",
    "    \"\"\"Generator function to read a file line by line.\"\"\"\n",
    "    with open(file_path, 'r') as file:\n",
    "        for line in file:\n",
    "            yield line.strip()  # Remove any extra newlines or leading/trailing whitespace\n",
    "\n",
    "# Example usage:\n",
    "file_path = 'example.txt'\n",
    "\n",
    "for line in read_file_lines(file_path):\n",
    "    print(line)\n"
   ]
  },
  {
   "cell_type": "code",
   "execution_count": 21,
   "id": "1e6b799d-76f2-455f-8528-7ba6ee3ba3df",
   "metadata": {},
   "outputs": [
    {
     "name": "stdout",
     "output_type": "stream",
     "text": [
      "[(3, 'apple'), (1, 'banana'), (2, 'cherry'), (4, 'date')]\n"
     ]
    }
   ],
   "source": [
    "# Q8: . Use a lambda function in Python to sort a list of tuples based on the second element of each tuple.\n",
    "\n",
    "# code->\n",
    "\n",
    "# Sample list of tuples\n",
    "tuples_list = [(1, 'banana'), (3, 'apple'), (2, 'cherry'), (4, 'date')]\n",
    "\n",
    "# Use the sort method with a lambda function to sort based on the second element\n",
    "tuples_list.sort(key=lambda x: x[1])\n",
    "\n",
    "# Print the sorted list\n",
    "print(tuples_list)\n",
    "\n",
    "\n"
   ]
  },
  {
   "cell_type": "code",
   "execution_count": 19,
   "id": "9cd1a29b-1b29-4921-9283-812159a06647",
   "metadata": {},
   "outputs": [
    {
     "name": "stdin",
     "output_type": "stream",
     "text": [
      "Enter the no of element:  3\n",
      "Enter the temperature 12.5\n",
      "Enter the temperature 33\n",
      "Enter the temperature 3\n"
     ]
    },
    {
     "name": "stdout",
     "output_type": "stream",
     "text": [
      "The temp in Celsius:  [12.5, 33.0, 3.0]\n",
      "The temp in Fahrenheit:  [54.5, 91.4, 37.4]\n"
     ]
    }
   ],
   "source": [
    "# Q9: Write a Python program that uses `map()` to convert a list of temperatures from Celsius to Fahrenheit.\n",
    "\n",
    "# code->\n",
    "\n",
    "# Function to temp from cel to fah.\n",
    "def Cel_to_Fah(temp):\n",
    "         return (9/5 * temp) + 32\n",
    "\n",
    "# taking input of temp as list\n",
    "list_of_temp = []\n",
    "n = int(input(\"Enter the no of element: \"))\n",
    "for i in range(0, n):\n",
    "    temp = float(input(\"Enter the temperature\"))\n",
    "    list_of_temp.append(temp)\n",
    "print(\"The temp in Celsius: \",list_of_temp)\n",
    "\n",
    "# Function call and printing the result.\n",
    "temp_in_Fah = list(map(Cel_to_Fah, list_of_temp))\n",
    "print(\"The temp in Fahrenheit: \", temp_in_Fah)"
   ]
  },
  {
   "cell_type": "code",
   "execution_count": 14,
   "id": "8b8016bc-8961-4d30-9a06-0df2c4457753",
   "metadata": {},
   "outputs": [
    {
     "name": "stdin",
     "output_type": "stream",
     "text": [
      "Enter the string:  Ronaldo has more than 850 goals.\n"
     ]
    },
    {
     "name": "stdout",
     "output_type": "stream",
     "text": [
      "Rnld hs mr thn 850 gls.\n"
     ]
    }
   ],
   "source": [
    "# Q10: Create a Python program that uses `filter()` to remove all the vowels from a given string.\n",
    "\n",
    "# code->\n",
    "\n",
    "# Function to remove vowel from inputed string.\n",
    "def remove_vowels(string):\n",
    "    vowels = \"aeiouAeiou\"\n",
    "    return ''.join(filter(lambda char: char not in vowels, string))\n",
    "\n",
    "string = input(\"Enter the string: \")\n",
    "\n",
    "# Function call and printing the result.\n",
    "result = remove_vowels(string)\n",
    "print(result)"
   ]
  },
  {
   "cell_type": "code",
   "execution_count": 22,
   "id": "ba8978e2-5df9-4721-9bd7-252f7309be68",
   "metadata": {},
   "outputs": [
    {
     "name": "stdout",
     "output_type": "stream",
     "text": [
      "[(34587, 163.8), (98762, 284.0), (77226, 108.85000000000001), (88112, 84.97)]\n"
     ]
    }
   ],
   "source": [
    "# Q11:  Imagine an accounting routine used in a book shop. It works on a list with sublists, which look like this:\n",
    "\n",
    "\n",
    "\n",
    "\n",
    "\n",
    "\n",
    "\n",
    "# Write a Python program, which returns a list with 2-tuples. Each tuple consists of the order number and the\n",
    "# product of the price per item and the quantity. The product should be increased by 10,- € if the value of the\n",
    "# order is smaller than 100,00 €.\n",
    "# Write a Python program using lambda and map\n",
    "\n",
    "\n",
    "# code->\n",
    "# List of orders\n",
    "orders = [\n",
    "    [34587, \"Learning Python, Mark Lutz\", 4, 40.95],\n",
    "    [98762, \"Programming Python, Mark Lutz\", 5, 56.80],\n",
    "    [77226, \"Head First Python, Paul Barry\", 3, 32.95],\n",
    "    [88112, \"Einführung in Python3, Bernd Klein\", 3, 24.99]\n",
    "]\n",
    "\n",
    "# Function to calculate the total price with the condition\n",
    "calculate_price = lambda order: (\n",
    "    order[0],  # Order number\n",
    "    order[2] * order[3] + 10 if order[2] * order[3] < 100 else order[2] * order[3]\n",
    ")\n",
    "\n",
    "# Use map to apply the lambda function to each order\n",
    "result = list(map(calculate_price, orders))\n",
    "\n",
    "# Print the result\n",
    "print(result)\n"
   ]
  },
  {
   "cell_type": "code",
   "execution_count": null,
   "id": "3df740fd-0844-45cc-ae11-4f53fd444c51",
   "metadata": {},
   "outputs": [],
   "source": []
  }
 ],
 "metadata": {
  "kernelspec": {
   "display_name": "Python 3 (ipykernel)",
   "language": "python",
   "name": "python3"
  },
  "language_info": {
   "codemirror_mode": {
    "name": "ipython",
    "version": 3
   },
   "file_extension": ".py",
   "mimetype": "text/x-python",
   "name": "python",
   "nbconvert_exporter": "python",
   "pygments_lexer": "ipython3",
   "version": "3.10.8"
  }
 },
 "nbformat": 4,
 "nbformat_minor": 5
}
